{
 "cells": [
  {
   "cell_type": "code",
   "execution_count": 1,
   "metadata": {
    "collapsed": false
   },
   "outputs": [
    {
     "name": "stderr",
     "output_type": "stream",
     "text": [
      "WARNING:root:Warning: I cannot import mpi4py. Using a dummpy single noded implementation instead. The program will run in single node mode even if you executed me with mpirun or mpiexec.\n",
      "\n",
      "We STRONGLY recommend you to try to install mpi and mpi4py.\n",
      "\n",
      "WARNING:root:mpi4py exception message is: No module named mpi4py\n",
      "WARNING:root:decaf.util.pyvml: unable to load the mkl library. Using fallback options.\n"
     ]
    },
    {
     "name": "stdout",
     "output_type": "stream",
     "text": [
      "Couldn't import dot_parser, loading of dot files will not be possible.\n"
     ]
    }
   ],
   "source": [
    "#load data\n",
    "from decaf.scripts.imagenet import DecafNet\n",
    "net = DecafNet('imagenet_pretrained/imagenet.decafnet.epoch90','imagenet_pretrained/imagenet.decafnet.meta')\n",
    "import theano.tensor as T\n",
    "from theano import function\n",
    "import theano\n",
    "import matplotlib.pyplot as plt\n",
    "from skimage import io\n",
    "%matplotlib inline"
   ]
  },
  {
   "cell_type": "code",
   "execution_count": 10,
   "metadata": {
    "collapsed": false
   },
   "outputs": [
    {
     "name": "stdout",
     "output_type": "stream",
     "text": [
      "20\n"
     ]
    }
   ],
   "source": [
    "from IPython.parallel import Client\n",
    "client = Client()\n",
    "client.block = True\n",
    "view = client.load_balanced_view()\n",
    "print len(client)"
   ]
  },
  {
   "cell_type": "raw",
   "metadata": {
    "collapsed": true
   },
   "source": [
    "def feature_extractor(im_name):\n",
    "    #layer = 'fc7_cudanet_out'\n",
    "    layer = 'fc6_cudanet_out'\n",
    "    result = io.imread(\"public_data/\" + im_name)\n",
    "    #result = img_as_uint(result)\n",
    "    scores = net.classify(result.astype('uint8'),center_only=True)\n",
    "    feature = net.feature(layer)\n",
    "    return feature.flatten()"
   ]
  },
  {
   "cell_type": "code",
   "execution_count": 3,
   "metadata": {
    "collapsed": false
   },
   "outputs": [],
   "source": [
    "from glob import glob\n",
    "X_im = [io.imread( name) for name in glob(\"../data/NEU surface defect database/*.bmp\")]\n",
    "from skimage import color\n",
    "X_im = [color.rgb2gray(im) for im in X_im]\n",
    "from skimage import img_as_ubyte\n",
    "X_im = [img_as_ubyte(im) for im in X_im]"
   ]
  },
  {
   "cell_type": "code",
   "execution_count": 11,
   "metadata": {
    "collapsed": true
   },
   "outputs": [],
   "source": [
    "def feature_extractor(im):\n",
    "    from decaf.scripts.imagenet import DecafNet\n",
    "    net = DecafNet('imagenet_pretrained/imagenet.decafnet.epoch90','imagenet_pretrained/imagenet.decafnet.meta')\n",
    "    layer = 'fc6_cudanet_out'\n",
    "    scores = net.classify(im.astype('uint8'),center_only=True)\n",
    "    feature = net.feature(layer)\n",
    "    return feature.flatten()"
   ]
  },
  {
   "cell_type": "code",
   "execution_count": 7,
   "metadata": {
    "collapsed": false
   },
   "outputs": [],
   "source": [
    "import os\n",
    "f_names = os.listdir(\"../data/NEU surface defect database/\")\n",
    "f_names.remove(\"Thumbs.db\")\n",
    "import numpy as np\n",
    "labels = []\n",
    "for name in f_names:\n",
    "    labels.append(name.split('_')[0])\n",
    "#transform labels\n",
    "from sklearn.preprocessing import LabelEncoder\n",
    "le = LabelEncoder()\n",
    "Y = le.fit_transform(labels)"
   ]
  },
  {
   "cell_type": "code",
   "execution_count": 12,
   "metadata": {
    "collapsed": false
   },
   "outputs": [],
   "source": [
    "X = view.map(feature_extractor,X_im)"
   ]
  },
  {
   "cell_type": "code",
   "execution_count": 14,
   "metadata": {
    "collapsed": false
   },
   "outputs": [
    {
     "name": "stdout",
     "output_type": "stream",
     "text": [
      "1800 (4096,)\n",
      "['Pa', 'Pa', 'In']\n"
     ]
    }
   ],
   "source": [
    "print len(X), X[0].shape\n",
    "print labels[:3]"
   ]
  },
  {
   "cell_type": "code",
   "execution_count": 18,
   "metadata": {
    "collapsed": false
   },
   "outputs": [
    {
     "name": "stdout",
     "output_type": "stream",
     "text": [
      "(1800, 4096) (1800,)\n"
     ]
    }
   ],
   "source": [
    "Y = np.array(labels)\n",
    "X = np.array(X)\n",
    "print X.shape, Y.shape"
   ]
  },
  {
   "cell_type": "code",
   "execution_count": 19,
   "metadata": {
    "collapsed": false
   },
   "outputs": [
    {
     "name": "stdout",
     "output_type": "stream",
     "text": [
      "(1260, 4096)\n",
      "(540, 4096)\n",
      "(1260,)\n",
      "(540,)\n"
     ]
    }
   ],
   "source": [
    "from sklearn.cross_validation import train_test_split\n",
    "train_x,test_x,train_y,test_y = train_test_split(np.array(X),Y,test_size =0.3)\n",
    "print train_x.shape\n",
    "print test_x.shape\n",
    "print train_y.shape\n",
    "print test_y.shape"
   ]
  },
  {
   "cell_type": "code",
   "execution_count": 196,
   "metadata": {
    "collapsed": true
   },
   "outputs": [],
   "source": []
  },
  {
   "cell_type": "code",
   "execution_count": 20,
   "metadata": {
    "collapsed": false
   },
   "outputs": [
    {
     "name": "stdout",
     "output_type": "stream",
     "text": [
      "confusion_matrix\n",
      "[[ 92   0   0   0   0   0]\n",
      " [  0  87   1   0   0   0]\n",
      " [  0   0  84   0   0   0]\n",
      " [  0   0   0  83   0   0]\n",
      " [  0   0   0   0 101   0]\n",
      " [  0   0   0   0   0  92]]\n",
      "accuracy\n",
      "0.998148148148\n"
     ]
    }
   ],
   "source": [
    "from sklearn.linear_model import LogisticRegression\n",
    "classifier = LogisticRegression()\n",
    "classifier.fit(train_x,train_y)\n",
    "pred_y = classifier.predict(test_x)\n",
    "from sklearn.metrics import confusion_matrix\n",
    "from sklearn.metrics import accuracy_score\n",
    "print 'confusion_matrix'\n",
    "print confusion_matrix(test_y,pred_y)\n",
    "print 'accuracy'\n",
    "print accuracy_score(test_y,pred_y)"
   ]
  },
  {
   "cell_type": "code",
   "execution_count": 22,
   "metadata": {
    "collapsed": false
   },
   "outputs": [
    {
     "data": {
      "text/plain": [
       "'Sc'"
      ]
     },
     "execution_count": 22,
     "metadata": {},
     "output_type": "execute_result"
    }
   ],
   "source": [
    "classifier.predict(test_x)[0]"
   ]
  },
  {
   "cell_type": "code",
   "execution_count": 229,
   "metadata": {
    "collapsed": true
   },
   "outputs": [],
   "source": [
    "label_names = ['crazing','inclusion','pitted surface','patches','rolled-in scale','scratch']"
   ]
  },
  {
   "cell_type": "code",
   "execution_count": 24,
   "metadata": {
    "collapsed": false
   },
   "outputs": [],
   "source": [
    "import cPickle\n",
    "with open(\"X_public.pkl\",\"w\") as f:\n",
    "    cPickle.dump(X,f)\n",
    "with open(\"Y_public.pkl\",\"w\") as f:\n",
    "    cPickle.dump(Y,f)\n",
    "# with open(\"labels_text.pkl\",\"w\") as f:\n",
    "#     cPickle.dump(label_names,f)\n",
    "with open(\"lg_classifier_public\",\"w\") as f:\n",
    "    cPickle.dump(classifier,f)"
   ]
  },
  {
   "cell_type": "code",
   "execution_count": 14,
   "metadata": {
    "collapsed": false
   },
   "outputs": [
    {
     "data": {
      "text/plain": [
       "(200, 200)"
      ]
     },
     "execution_count": 14,
     "metadata": {},
     "output_type": "execute_result"
    }
   ],
   "source": [
    "plt.imread('public_data/'+f_names[0]).shape"
   ]
  },
  {
   "cell_type": "markdown",
   "metadata": {},
   "source": [
    "# Extra data"
   ]
  },
  {
   "cell_type": "code",
   "execution_count": 246,
   "metadata": {
    "collapsed": true
   },
   "outputs": [],
   "source": [
    "extra_names = os.listdir(\"extra_data/\")\n",
    "extra_names.remove(\"README.txt\")"
   ]
  },
  {
   "cell_type": "code",
   "execution_count": null,
   "metadata": {
    "collapsed": true
   },
   "outputs": [],
   "source": []
  },
  {
   "cell_type": "code",
   "execution_count": 247,
   "metadata": {
    "collapsed": true
   },
   "outputs": [],
   "source": [
    "google_names = os.listdir(\"google_metal_surface/\")"
   ]
  },
  {
   "cell_type": "code",
   "execution_count": 248,
   "metadata": {
    "collapsed": false
   },
   "outputs": [
    {
     "data": {
      "text/plain": [
       "array(['Cr', 'In', 'PS', 'Pa', 'RS', 'Sc', 'nan'], \n",
       "      dtype='|S3')"
      ]
     },
     "execution_count": 248,
     "metadata": {},
     "output_type": "execute_result"
    }
   ],
   "source": [
    "le.classes_"
   ]
  },
  {
   "cell_type": "code",
   "execution_count": 249,
   "metadata": {
    "collapsed": false
   },
   "outputs": [],
   "source": [
    "extra_labels = []\n",
    "for name in extra_names:\n",
    "    l = name.split('.')[0][:-1]\n",
    "    if l == 'rs':\n",
    "        l = 'RS'\n",
    "    elif l == 'bp':\n",
    "        l = 'Pa'\n",
    "    elif l == 'scr':\n",
    "        l = 'Sc'\n",
    "    extra_labels.append(l)"
   ]
  },
  {
   "cell_type": "raw",
   "metadata": {
    "collapsed": false
   },
   "source": [
    "def feature_extractor(im_name):\n",
    "    #layer = 'fc7_cudanet_out'\n",
    "    layer = 'fc6_cudanet_out'\n",
    "    result = io.imread(\"extra_data/\" + im_name)\n",
    "    #result = img_as_uint(result)\n",
    "    scores = net.classify(result.astype('uint8'),center_only=True)\n",
    "    feature = net.feature(layer)\n",
    "    return feature.flatten()"
   ]
  },
  {
   "cell_type": "code",
   "execution_count": 251,
   "metadata": {
    "collapsed": true
   },
   "outputs": [],
   "source": [
    "ims_extra = [io.imread(\"extra_data/\"+name) for name in extra_names]"
   ]
  },
  {
   "cell_type": "code",
   "execution_count": 253,
   "metadata": {
    "collapsed": true
   },
   "outputs": [],
   "source": [
    "X_extra = view.map(feature_extractor,ims_extra)"
   ]
  },
  {
   "cell_type": "code",
   "execution_count": 236,
   "metadata": {
    "collapsed": true
   },
   "outputs": [],
   "source": [
    "def feature_extractor(im):\n",
    "    from decaf.scripts.imagenet import DecafNet\n",
    "    net = DecafNet('imagenet_pretrained/imagenet.decafnet.epoch90','imagenet_pretrained/imagenet.decafnet.meta')\n",
    "    layer = 'fc6_cudanet_out'\n",
    "    scores = net.classify(im.astype('uint8'),center_only=True)\n",
    "    feature = net.feature(layer)\n",
    "    return feature.flatten()"
   ]
  },
  {
   "cell_type": "code",
   "execution_count": 252,
   "metadata": {
    "collapsed": true
   },
   "outputs": [],
   "source": [
    "google_labels = ['nan']*len(google_names)\n",
    "ims_google = [io.imread(\"google_metal_surface/\"+name) for name in google_names]\n"
   ]
  },
  {
   "cell_type": "code",
   "execution_count": 238,
   "metadata": {
    "collapsed": true
   },
   "outputs": [],
   "source": [
    "X_google = view.map(feature_extractor,ims_google)"
   ]
  },
  {
   "cell_type": "code",
   "execution_count": 179,
   "metadata": {
    "collapsed": false
   },
   "outputs": [
    {
     "name": "stdout",
     "output_type": "stream",
     "text": [
      "(58, 4096) (1800, 4096) (12, 4096)\n",
      "58 1800 12\n"
     ]
    }
   ],
   "source": [
    "print X_extra.shape, X.shape,X_google.shape\n",
    "print len(extra_labels),len(labels),len(google_labels)"
   ]
  },
  {
   "cell_type": "code",
   "execution_count": 254,
   "metadata": {
    "collapsed": true
   },
   "outputs": [],
   "source": [
    "labels_all = le.fit_transform(labels + extra_labels + google_labels)\n",
    "X_all = np.concatenate((X,X_extra, X_google))\n",
    "#labels_all = le.fit_transform(labels  + google_labels)\n",
    "#X_all = np.concatenate((X, X_google))"
   ]
  },
  {
   "cell_type": "code",
   "execution_count": 255,
   "metadata": {
    "collapsed": false
   },
   "outputs": [
    {
     "data": {
      "text/plain": [
       "Counter({5: 307, 3: 305, 4: 305, 0: 300, 1: 300, 2: 300, 12: 12, 6: 5, 8: 4, 14: 4, 9: 3, 13: 3, 18: 3, 22: 3, 7: 2, 10: 2, 15: 2, 16: 2, 19: 2, 20: 2, 21: 2, 11: 1, 17: 1})"
      ]
     },
     "execution_count": 255,
     "metadata": {},
     "output_type": "execute_result"
    }
   ],
   "source": [
    "Counter(labels_all)"
   ]
  },
  {
   "cell_type": "code",
   "execution_count": 256,
   "metadata": {
    "collapsed": false,
    "scrolled": true
   },
   "outputs": [
    {
     "name": "stdout",
     "output_type": "stream",
     "text": [
      "(1309, 4096)\n",
      "(561, 4096)\n",
      "(1309,)\n",
      "(561,)\n",
      "confusion_matrix\n",
      "[[87  0  0  0  0  0  0  0  0  0  0  0  0  0  0  0  0  0  0  0]\n",
      " [ 0 79  0  0  0  0  0  0  0  0  0  0  0  0  0  0  0  0  0  0]\n",
      " [ 0  2 92  0  0  0  0  0  0  0  0  0  0  0  0  0  0  0  0  0]\n",
      " [ 1  0  0 89  1  0  0  0  0  0  0  0  0  0  0  0  0  0  0  0]\n",
      " [ 0  0  0  1 97  0  0  0  0  0  0  0  0  0  0  0  0  0  0  0]\n",
      " [ 0  0  0  0  1 95  0  0  0  0  0  0  0  0  0  0  0  0  0  0]\n",
      " [ 0  0  0  2  0  2  0  0  0  0  0  0  0  0  0  0  0  0  0  0]\n",
      " [ 0  0  0  0  0  0  0  0  0  0  0  0  0  0  0  0  0  0  0  0]\n",
      " [ 1  0  0  1  0  0  0  0  0  0  0  0  0  0  0  0  0  0  0  0]\n",
      " [ 0  0  0  0  0  0  0  0  0  0  0  0  0  0  0  0  0  0  0  0]\n",
      " [ 0  0  0  0  0  0  0  0  0  0  0  0  0  0  0  0  0  0  0  0]\n",
      " [ 0  0  0  0  0  0  0  0  0  0  1  0  0  0  0  0  0  0  0  0]\n",
      " [ 0  0  1  0  0  0  0  0  0  0  0  0  0  0  0  0  0  0  0  0]\n",
      " [ 0  0  0  1  0  0  0  0  0  0  0  0  0  0  0  0  1  0  0  0]\n",
      " [ 0  0  0  0  0  0  0  1  0  0  0  0  0  0  0  0  0  0  0  0]\n",
      " [ 0  0  0  0  0  0  0  0  0  1  0  0  0  0  0  0  0  0  0  0]\n",
      " [ 0  0  0  0  0  0  0  0  0  0  0  0  0  0  0  0  0  0  0  0]\n",
      " [ 0  0  0  0  0  1  0  0  0  0  0  0  0  0  0  0  0  0  0  0]\n",
      " [ 0  0  0  0  0  1  0  0  0  0  0  0  0  0  0  0  0  0  0  0]\n",
      " [ 0  0  0  0  0  1  0  0  0  1  0  0  0  0  0  0  0  0  0  0]]\n",
      "accuracy\n",
      "0.960784313725\n"
     ]
    }
   ],
   "source": [
    "from sklearn.cross_validation import train_test_split\n",
    "train_x,test_x,train_y,test_y = train_test_split(X_all,labels_all,test_size =0.3)\n",
    "print train_x.shape\n",
    "print test_x.shape\n",
    "print train_y.shape\n",
    "print test_y.shape\n",
    "\n",
    "from sklearn.linear_model import LogisticRegression\n",
    "classifier = LogisticRegression()\n",
    "classifier.fit(train_x,train_y)\n",
    "pred_y = classifier.predict(test_x)\n",
    "from sklearn.metrics import confusion_matrix\n",
    "from sklearn.metrics import accuracy_score\n",
    "print 'confusion_matrix'\n",
    "print confusion_matrix(test_y,pred_y)\n",
    "print 'accuracy'\n",
    "print accuracy_score(test_y,pred_y)"
   ]
  },
  {
   "cell_type": "code",
   "execution_count": 262,
   "metadata": {
    "collapsed": false
   },
   "outputs": [
    {
     "name": "stdout",
     "output_type": "stream",
     "text": [
      "['Cr' 'In' 'PS' 'Pa' 'RS' 'Sc' 'anc' 'cb' 'hole' 'indent' 'ir_p' 'lami'\n",
      " 'nan' 'par_bi' 'pm' 'roll_mark' 'rupture' 'rust' 'scab' 'sliv' 'spm'\n",
      " 'undp' 'wav']\n"
     ]
    }
   ],
   "source": [
    "print le.classes_"
   ]
  },
  {
   "cell_type": "code",
   "execution_count": 263,
   "metadata": {
    "collapsed": true
   },
   "outputs": [],
   "source": [
    "label_names = ['crazing','inclusion','pitted surface','patches','rolled-in scale','scratch','Anneal Color',\n",
    "              'COIL BREAK','hole','indent','IRON PARTICLES','lamination','nan','PARALLEL BAND IMPRESSION',\n",
    "              'PINCH MARK','roll mark', 'rupture','rust','scrab','sliver','spm_ii','under picking','waviness']"
   ]
  },
  {
   "cell_type": "code",
   "execution_count": 260,
   "metadata": {
    "collapsed": false
   },
   "outputs": [
    {
     "data": {
      "text/plain": [
       "23"
      ]
     },
     "execution_count": 260,
     "metadata": {},
     "output_type": "execute_result"
    }
   ],
   "source": [
    "len(label_names)"
   ]
  },
  {
   "cell_type": "code",
   "execution_count": 264,
   "metadata": {
    "collapsed": false
   },
   "outputs": [
    {
     "data": {
      "text/plain": [
       "LogisticRegression(C=1.0, class_weight=None, dual=False, fit_intercept=True,\n",
       "          intercept_scaling=1, penalty='l2', random_state=None, tol=0.0001)"
      ]
     },
     "execution_count": 264,
     "metadata": {},
     "output_type": "execute_result"
    }
   ],
   "source": [
    "from sklearn.linear_model import LogisticRegression\n",
    "classifier = LogisticRegression()\n",
    "#ind = np.where(labels_all == 2)[0]\n",
    "#labels_all[ind] = 13\n",
    "#ind = np.where(labels_all == 4)[0]\n",
    "#labels_all[ind] = 13\n",
    "classifier.fit(X_all,labels_all)"
   ]
  },
  {
   "cell_type": "code",
   "execution_count": 265,
   "metadata": {
    "collapsed": false
   },
   "outputs": [
    {
     "data": {
      "text/plain": [
       "array(['Cr', 'In', 'PS', 'Pa', 'RS', 'Sc', 'anc', 'cb', 'hole', 'indent',\n",
       "       'ir_p', 'lami', 'nan', 'par_bi', 'pm', 'roll_mark', 'rupture',\n",
       "       'rust', 'scab', 'sliv', 'spm', 'undp', 'wav'], \n",
       "      dtype='|S9')"
      ]
     },
     "execution_count": 265,
     "metadata": {},
     "output_type": "execute_result"
    }
   ],
   "source": [
    "le.classes_"
   ]
  },
  {
   "cell_type": "code",
   "execution_count": null,
   "metadata": {
    "collapsed": true
   },
   "outputs": [],
   "source": []
  },
  {
   "cell_type": "code",
   "execution_count": 266,
   "metadata": {
    "collapsed": true
   },
   "outputs": [],
   "source": [
    "with open(\"labels_text_all.pkl\",\"w\") as f:\n",
    "    cPickle.dump(label_names,f)\n",
    "with open(\"lg_classifier_public_all\",\"w\") as f:\n",
    "    cPickle.dump(classifier,f)"
   ]
  },
  {
   "cell_type": "markdown",
   "metadata": {},
   "source": [
    "#AVI labels"
   ]
  },
  {
   "cell_type": "code",
   "execution_count": 15,
   "metadata": {
    "collapsed": true
   },
   "outputs": [],
   "source": [
    "avi_names = os.listdir(\"CleanAVIData/\")\n",
    "avi_names.remove(\"Dataset info v2.xlsx - Shortcut.lnk\")\n",
    "avi_names.remove(\"ReadMe.txt\")"
   ]
  },
  {
   "cell_type": "code",
   "execution_count": 16,
   "metadata": {
    "collapsed": false
   },
   "outputs": [],
   "source": [
    "avi_labels = []\n",
    "for name in avi_names:\n",
    "    avi_labels.append(name.split('_')[-1].split('.')[0].split('(')[0].strip())"
   ]
  },
  {
   "cell_type": "code",
   "execution_count": 18,
   "metadata": {
    "collapsed": false
   },
   "outputs": [
    {
     "data": {
      "text/plain": [
       "Counter({'Scuff': 42, 'Dirt': 14, 'SecondaryGrain': 11, 'PlusMetal': 10, 'Sliver': 9, 'RX': 8, 'Melt': 7, 'Equiax': 7, 'Damage': 5, 'PoorBlast': 4, 'Scratch': 4, 'Inclusion': 4, 'Dent': 3, 'Shadowing': 2, 'SurfaceTexture': 2, 'Artifact': 2, 'MinusMetal': 1})"
      ]
     },
     "execution_count": 18,
     "metadata": {},
     "output_type": "execute_result"
    }
   ],
   "source": [
    "from collections import Counter\n",
    "Counter(avi_labels)"
   ]
  },
  {
   "cell_type": "code",
   "execution_count": null,
   "metadata": {
    "collapsed": true
   },
   "outputs": [],
   "source": []
  },
  {
   "cell_type": "markdown",
   "metadata": {},
   "source": [
    "## Test on AVI"
   ]
  },
  {
   "cell_type": "code",
   "execution_count": 95,
   "metadata": {
    "collapsed": true
   },
   "outputs": [],
   "source": [
    "avi_names = os.listdir(\"CleanAVIData/\")\n",
    "avi_names.remove(\"Dataset info v2.xlsx - Shortcut.lnk\")\n",
    "avi_names.remove(\"ReadMe.txt\")"
   ]
  },
  {
   "cell_type": "code",
   "execution_count": 411,
   "metadata": {
    "collapsed": true
   },
   "outputs": [],
   "source": [
    "with open(\"CleanAVIData/MSA10_N8102910_Dent (1).png\") as f:\n",
    "    test_avi = plt.imread(f)"
   ]
  },
  {
   "cell_type": "code",
   "execution_count": 412,
   "metadata": {
    "collapsed": true
   },
   "outputs": [],
   "source": [
    "def rgb2gray(rgb):\n",
    "    return np.dot(rgb[...,:3], [0.299, 0.587, 0.144])"
   ]
  },
  {
   "cell_type": "code",
   "execution_count": 413,
   "metadata": {
    "collapsed": true
   },
   "outputs": [],
   "source": [
    "test_avi = rgb2gray(test_avi) \n",
    "test_avi = test_avi"
   ]
  },
  {
   "cell_type": "code",
   "execution_count": 437,
   "metadata": {
    "collapsed": false
   },
   "outputs": [
    {
     "data": {
      "text/plain": [
       "'MSA19_N670309_Shadowing (2).png'"
      ]
     },
     "execution_count": 437,
     "metadata": {},
     "output_type": "execute_result"
    }
   ],
   "source": []
  },
  {
   "cell_type": "code",
   "execution_count": 414,
   "metadata": {
    "collapsed": false
   },
   "outputs": [],
   "source": [
    "from sklearn.feature_extraction.image import extract_patches_2d\n",
    "test_patches = extract_patches_2d(test_avi,(200,200), max_patches=100)"
   ]
  },
  {
   "cell_type": "code",
   "execution_count": 451,
   "metadata": {
    "collapsed": false
   },
   "outputs": [
    {
     "data": {
      "text/plain": [
       "(100, 200, 200)"
      ]
     },
     "execution_count": 451,
     "metadata": {},
     "output_type": "execute_result"
    }
   ],
   "source": [
    "test_patches.shape"
   ]
  },
  {
   "cell_type": "code",
   "execution_count": 415,
   "metadata": {
    "collapsed": false
   },
   "outputs": [
    {
     "data": {
      "text/plain": [
       "array(['Cr', 'In', 'PS', 'Pa', 'RS', 'Sc'], \n",
       "      dtype='|S2')"
      ]
     },
     "execution_count": 415,
     "metadata": {},
     "output_type": "execute_result"
    }
   ],
   "source": [
    "le.classes_"
   ]
  },
  {
   "cell_type": "code",
   "execution_count": 416,
   "metadata": {
    "collapsed": true
   },
   "outputs": [],
   "source": [
    "class_labels = ['crack','inclusion','pitted surface','patches','roll-in surface','scratches']"
   ]
  },
  {
   "cell_type": "code",
   "execution_count": 435,
   "metadata": {
    "collapsed": false
   },
   "outputs": [
    {
     "data": {
      "text/plain": [
       "<matplotlib.text.Text at 0x7fea2af20d50>"
      ]
     },
     "execution_count": 435,
     "metadata": {},
     "output_type": "execute_result"
    },
    {
     "data": {
      "image/png": "[encoded data removed]",
      "text/plain": [
       "<matplotlib.figure.Figure at 0x7fea2af6bb90>"
      ]
     },
     "metadata": {},
     "output_type": "display_data"
    }
   ],
   "source": [
    "i = 7\n",
    "plt.imshow(test_patches[i],cmap=plt.cm.gray)\n",
    "plt.title(class_labels[r[i]])"
   ]
  },
  {
   "cell_type": "code",
   "execution_count": 418,
   "metadata": {
    "collapsed": false
   },
   "outputs": [],
   "source": [
    "def feature_extractor(im):\n",
    "    #layer = 'fc7_cudanet_out'\n",
    "    layer = 'fc6_cudanet_out'\n",
    "    scores = net.classify((im*256).astype('uint8'),center_only=True)\n",
    "    feature = net.feature(layer)\n",
    "    return feature.flatten()"
   ]
  },
  {
   "cell_type": "code",
   "execution_count": 419,
   "metadata": {
    "collapsed": true
   },
   "outputs": [],
   "source": [
    "test_patches_feature = [feature_extractor(i) for i in test_patches]"
   ]
  },
  {
   "cell_type": "code",
   "execution_count": 420,
   "metadata": {
    "collapsed": false,
    "scrolled": true
   },
   "outputs": [
    {
     "name": "stdout",
     "output_type": "stream",
     "text": [
      "0 Pa\n",
      "1 Pa\n",
      "2 PS\n",
      "3 Pa\n",
      "4 Pa\n",
      "5 Sc\n",
      "6 Cr\n",
      "7 Pa\n",
      "8 Sc\n",
      "9 Pa\n",
      "10 Pa\n",
      "11 Pa\n",
      "12 Pa\n",
      "13 Sc\n",
      "14 Cr\n",
      "15 Pa\n",
      "16 Sc\n",
      "17 Sc\n",
      "18 Sc\n",
      "19 In\n",
      "20 Cr\n",
      "21 Pa\n",
      "22 Cr\n",
      "23 Cr\n",
      "24 Cr\n",
      "25 Pa\n",
      "26 Cr\n",
      "27 Pa\n",
      "28 PS\n",
      "29 Pa\n",
      "30 Sc\n",
      "31 Cr\n",
      "32 Cr\n",
      "33 Sc\n",
      "34 In\n",
      "35 Sc\n",
      "36 Sc\n",
      "37 Cr\n",
      "38 Sc\n",
      "39 Sc\n",
      "40 Sc\n",
      "41 Pa\n",
      "42 Sc\n",
      "43 Sc\n",
      "44 Sc\n",
      "45 Pa\n",
      "46 Cr\n",
      "47 Sc\n",
      "48 Sc\n",
      "49 Cr\n",
      "50 Sc\n",
      "51 Cr\n",
      "52 Cr\n",
      "53 Pa\n",
      "54 Sc\n",
      "55 Pa\n",
      "56 Sc\n",
      "57 Cr\n",
      "58 Pa\n",
      "59 Pa\n",
      "60 Cr\n",
      "61 Sc\n",
      "62 Sc\n",
      "63 Pa\n",
      "64 Pa\n",
      "65 Sc\n",
      "66 Sc\n",
      "67 Pa\n",
      "68 Pa\n",
      "69 Cr\n",
      "70 Sc\n",
      "71 Pa\n",
      "72 Sc\n",
      "73 Sc\n",
      "74 Pa\n",
      "75 Pa\n",
      "76 Cr\n",
      "77 Pa\n",
      "78 Cr\n",
      "79 Pa\n",
      "80 Pa\n",
      "81 Sc\n",
      "82 Pa\n",
      "83 Pa\n",
      "84 Cr\n",
      "85 Cr\n",
      "86 RS\n",
      "87 Cr\n",
      "88 Sc\n",
      "89 Sc\n",
      "90 Pa\n",
      "91 Pa\n",
      "92 Pa\n",
      "93 Sc\n",
      "94 Pa\n",
      "95 Sc\n",
      "96 Cr\n",
      "97 Sc\n",
      "98 Pa\n",
      "99 Cr\n"
     ]
    }
   ],
   "source": [
    "r = classifier.predict(test_patches_feature)\n",
    "for i in xrange(r.shape[0]):\n",
    "    print i, le.classes_[r[i]]"
   ]
  },
  {
   "cell_type": "code",
   "execution_count": 387,
   "metadata": {
    "collapsed": false
   },
   "outputs": [
    {
     "data": {
      "text/plain": [
       "array(['Cr', 'In', 'PS', 'Pa', 'RS', 'Sc'], \n",
       "      dtype='|S2')"
      ]
     },
     "execution_count": 387,
     "metadata": {},
     "output_type": "execute_result"
    }
   ],
   "source": [
    "le.classes_"
   ]
  },
  {
   "cell_type": "code",
   "execution_count": 187,
   "metadata": {
    "collapsed": false
   },
   "outputs": [],
   "source": [
    "X_avi = np.zeros((len(avi_names),4096))\n",
    "for i in range(0,len(avi_names)):\n",
    "    X_avi[i] = feature_extractor(avi_names[i])"
   ]
  },
  {
   "cell_type": "code",
   "execution_count": 188,
   "metadata": {
    "collapsed": false
   },
   "outputs": [],
   "source": [
    "pred_avi = classifier.predict(X_avi)"
   ]
  },
  {
   "cell_type": "code",
   "execution_count": 189,
   "metadata": {
    "collapsed": false
   },
   "outputs": [
    {
     "data": {
      "text/plain": [
       "(array([0, 1, 2, 3, 4, 5]), array(['Cr', 'In', 'PS', 'Pa', 'RS', 'Sc'], \n",
       "       dtype='|S2'))"
      ]
     },
     "execution_count": 189,
     "metadata": {},
     "output_type": "execute_result"
    }
   ],
   "source": [
    "classifier.classes_,le.classes_"
   ]
  },
  {
   "cell_type": "code",
   "execution_count": 208,
   "metadata": {
    "collapsed": false
   },
   "outputs": [
    {
     "name": "stdout",
     "output_type": "stream",
     "text": [
      "1 SecondaryGrain\n",
      "3 Dirt (1)\n",
      "2 Sliver (3)\n",
      "3 Scuff (2)\n",
      "3 MinusMetal\n",
      "1 RX\n",
      "2 RX (2)\n",
      "3 Dirt (3)\n",
      "3 Dirt (3)\n",
      "3 SecondaryGrain (1)\n",
      "4 Sliver (1)\n",
      "1 Dent\n",
      "3 SurfaceTexture (2)\n",
      "3 Dent (1)\n",
      "1 Shadowing (1)\n",
      "1 Damage (5)\n",
      "3 SecondaryGrain (4)\n",
      "4 Sliver (2)\n",
      "3 PoorBlast (1)\n",
      "4 Damage (1)\n",
      "4 Damage (2)\n",
      "2 Sliver (1)\n",
      "1 Damage (3)\n",
      "3 Equiax (1)\n",
      "3 PlusMetal (3)\n",
      "3 PoorBlast (2)\n"
     ]
    }
   ],
   "source": [
    "for i in range(0,len(pred_avi)):\n",
    "    if pred_avi[i] != 5:\n",
    "        print pred_avi[i], avi_names[i].split('_')[-1].split('.')[0]"
   ]
  },
  {
   "cell_type": "code",
   "execution_count": 196,
   "metadata": {
    "collapsed": true
   },
   "outputs": [],
   "source": []
  },
  {
   "cell_type": "markdown",
   "metadata": {},
   "source": [
    "# prepare data for text-image mapping"
   ]
  },
  {
   "cell_type": "code",
   "execution_count": 53,
   "metadata": {
    "collapsed": true
   },
   "outputs": [],
   "source": [
    "from gensim.models import Word2Vec\n",
    "model = Word2Vec.load_word2vec_format(\"text_model/vectors-phrase.bin\",binary=True)"
   ]
  },
  {
   "cell_type": "code",
   "execution_count": 66,
   "metadata": {
    "collapsed": false,
    "scrolled": true
   },
   "outputs": [
    {
     "name": "stdout",
     "output_type": "stream",
     "text": [
      "['Cr' 'In' 'PS' 'Pa' 'RS' 'Sc']\n"
     ]
    }
   ],
   "source": [
    "print le.classes_"
   ]
  },
  {
   "cell_type": "code",
   "execution_count": 67,
   "metadata": {
    "collapsed": false
   },
   "outputs": [],
   "source": [
    "labels_dict = {}\n",
    "labels_dict['Cr'] = 'crack'\n",
    "labels_dict['In'] = 'inclusion'\n",
    "labels_dict['PS'] = 'pit'\n",
    "labels_dict['Pa'] = 'patch'\n",
    "labels_dict['RS'] = 'roll'\n",
    "labels_dict['Sc'] = 'scratch'"
   ]
  },
  {
   "cell_type": "code",
   "execution_count": 71,
   "metadata": {
    "collapsed": false
   },
   "outputs": [],
   "source": [
    "Y_vec = np.zeros((len(labels),100))\n",
    "i = 0\n",
    "for l in labels:\n",
    "    Y_vec[i] = model[labels_dict[l]]\n",
    "    i+= 1"
   ]
  },
  {
   "cell_type": "code",
   "execution_count": 73,
   "metadata": {
    "collapsed": true
   },
   "outputs": [],
   "source": [
    "with open(\"Y_100.pkl\",\"w\") as f:\n",
    "    cPickle.dump(Y_vec,f)"
   ]
  },
  {
   "cell_type": "code",
   "execution_count": null,
   "metadata": {
    "collapsed": true
   },
   "outputs": [],
   "source": []
  }
 ],
 "metadata": {
  "kernelspec": {
   "display_name": "Python 2",
   "language": "python",
   "name": "python2"
  },
  "language_info": {
   "codemirror_mode": {
    "name": "ipython",
    "version": 2
   },
   "file_extension": ".py",
   "mimetype": "text/x-python",
   "name": "python",
   "nbconvert_exporter": "python",
   "pygments_lexer": "ipython2",
   "version": "2.7.6"
  }
 },
 "nbformat": 4,
 "nbformat_minor": 0
}
