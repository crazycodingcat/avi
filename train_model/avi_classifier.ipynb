{
 "cells": [
  {
   "cell_type": "code",
   "execution_count": 8,
   "metadata": {
    "collapsed": false
   },
   "outputs": [],
   "source": [
    "from decaf.scripts.imagenet import DecafNet\n",
    "from os import path\n",
    "from skimage import color, img_as_ubyte\n",
    "import cPickle\n",
    "\n",
    "class AVIClassifier(object):\n",
    "    def __init__(self, decaf_folder = None, classifer_file = None):\n",
    "        if decaf_folder is None:\n",
    "            decaf_folder = '../models/imagenet_pretrained/'\n",
    "        if classifer_file is None:\n",
    "            classifer_file = \"lg_classifier_public\"\n",
    "        self.net = DecafNet(path.join(decaf_folder, 'imagenet.decafnet.epoch90'),\n",
    "                            path.join(decaf_folder, 'imagenet.decafnet.meta'))\n",
    "        self.feat_layer = 'fc6_cudanet_out'\n",
    "        self.classifier = cPickle.load(open(classifer_file, \"r\"))\n",
    "    def predict(self, img):\n",
    "        im = img_as_ubyte(color.rgb2gray(img))\n",
    "        scores = self.net.classify(im, center_only = True)\n",
    "        feats = self.net.feature(self.feat_layer).flatten()\n",
    "        defect_probs = self.classifier.predict_proba(feats)\n",
    "        return sorted(zip(self.classifier.classes_, defect_probs[0]), key = lambda (cls, prob): prob, reverse=True)"
   ]
  },
  {
   "cell_type": "raw",
   "metadata": {
    "collapsed": true
   },
   "source": [
    "class AVI(object):\n",
    "    def __init__(self,input):\n",
    "        \"\"\"\n",
    "        input: rgb or grayscale image\n",
    "        \"\"\"\n",
    "        self.im = input\n",
    "    def predict(self):\n",
    "        \"\"\"\n",
    "        return list of tuples: (class_name, probability\n",
    "        \"\"\"\n",
    "        im = color.rgb2gray(self.im) # turn to grayscale\n",
    "        im = img_as_ubyte(im) #turn to uint8\n",
    "        self.im = im\n",
    "        scores = net.classify(im.astype('uint8'),center_only=True)\n",
    "        feature = net.feature(layer).flatten()\n",
    "        prob = classifier.predict_proba(feature)\n",
    "        result = zip(label_names,list(prob[0]))\n",
    "        return result"
   ]
  },
  {
   "cell_type": "markdown",
   "metadata": {},
   "source": [
    "#example"
   ]
  },
  {
   "cell_type": "code",
   "execution_count": 12,
   "metadata": {
    "collapsed": false
   },
   "outputs": [
    {
     "name": "stdout",
     "output_type": "stream",
     "text": [
      "[('Cr', 0.99997097381777988), ('PS', 2.356690297291142e-05), ('RS', 4.8728099740662068e-06), ('Pa', 5.6601305618980938e-07), ('Sc', 2.0456215259766887e-08), ('In', 1.5966755113122746e-15)]\n"
     ]
    }
   ],
   "source": [
    "import matplotlib.pylab as plt\n",
    "%matplotlib inline\n",
    "import numpy as np\n",
    "from skimage import io\n",
    "im = io.imread(\"../data/NEU surface defect database/Cr_88.bmp\")\n",
    "from sklearn.feature_extraction.image import extract_patches_2d\n",
    "patches = extract_patches_2d(im, (190,190),max_patches = 2)\n",
    "ims =[]\n",
    "pred_y = []\n",
    "for patch in patches:\n",
    "    avi = AVIClassifier()\n",
    "    pred = avi.predict(patch)\n",
    "    ims.append(patch)\n",
    "    pred_y.append(pred)\n",
    "    \n",
    "print pred_y[0]\n",
    "\n",
    "# #plot results\n",
    "# io.imshow(im)\n",
    "# plt.figure(figsize = (20,50))\n",
    "# for i in xrange(50):\n",
    "#     prob = [l[1] for l in pred_y[i]]\n",
    "#     plt.subplot(10,5,i)\n",
    "#     io.imshow(ims[i])\n",
    "#     plt.title(label_names[np.argmax(prob)] + str(np.max(prob)))"
   ]
  },
  {
   "cell_type": "code",
   "execution_count": 5,
   "metadata": {
    "collapsed": false
   },
   "outputs": [
    {
     "data": {
      "text/plain": [
       "(1, 6)"
      ]
     },
     "execution_count": 5,
     "metadata": {},
     "output_type": "execute_result"
    }
   ],
   "source": []
  },
  {
   "cell_type": "code",
   "execution_count": null,
   "metadata": {
    "collapsed": true
   },
   "outputs": [],
   "source": []
  }
 ],
 "metadata": {
  "kernelspec": {
   "display_name": "Python 2",
   "language": "python",
   "name": "python2"
  },
  "language_info": {
   "codemirror_mode": {
    "name": "ipython",
    "version": 2
   },
   "file_extension": ".py",
   "mimetype": "text/x-python",
   "name": "python",
   "nbconvert_exporter": "python",
   "pygments_lexer": "ipython2",
   "version": "2.7.6"
  }
 },
 "nbformat": 4,
 "nbformat_minor": 0
}
